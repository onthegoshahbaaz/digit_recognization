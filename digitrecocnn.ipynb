{
  "nbformat": 4,
  "nbformat_minor": 0,
  "metadata": {
    "colab": {
      "provenance": [],
      "authorship_tag": "ABX9TyOZ79KcmrypyvdwIVScPtYK",
      "include_colab_link": true
    },
    "kernelspec": {
      "name": "python3",
      "display_name": "Python 3"
    },
    "language_info": {
      "name": "python"
    }
  },
  "cells": [
    {
      "cell_type": "markdown",
      "metadata": {
        "id": "view-in-github",
        "colab_type": "text"
      },
      "source": [
        "<a href=\"https://colab.research.google.com/github/onthegoshahbaaz/digit_recognization/blob/main/digitrecocnn.ipynb\" target=\"_parent\"><img src=\"https://colab.research.google.com/assets/colab-badge.svg\" alt=\"Open In Colab\"/></a>"
      ]
    },
    {
      "cell_type": "code",
      "source": [
        "import struct\n",
        "import numpy as np\n",
        "import matplotlib.pyplot as plt\n",
        "from tensorflow.keras.models import Sequential\n",
        "from tensorflow.keras.layers import Conv2D, MaxPooling2D, Flatten, Dense\n",
        "from tensorflow.keras.utils import to_categorical\n",
        "from sklearn.metrics import confusion_matrix, accuracy_score"
      ],
      "metadata": {
        "id": "ytj8ven5uqMo"
      },
      "execution_count": 2,
      "outputs": []
    },
    {
      "cell_type": "code",
      "source": [
        "# Function to read IDX files\n",
        "def read_idx(file_path):\n",
        "    with open(file_path, 'rb') as f:\n",
        "        magic, num_items = struct.unpack(\">II\", f.read(8))\n",
        "        labels = np.fromfile(f, dtype=np.uint8)\n",
        "    return labels\n",
        "\n",
        "def read_images(file_path):\n",
        "    with open(file_path, 'rb') as f:\n",
        "        magic, num_images, rows, cols = struct.unpack(\">IIII\", f.read(16))\n",
        "        images = np.fromfile(f, dtype=np.uint8).reshape(num_images, rows, cols)\n",
        "    return images"
      ],
      "metadata": {
        "id": "fpCNRWWiuqQA"
      },
      "execution_count": 3,
      "outputs": []
    },
    {
      "cell_type": "code",
      "source": [
        "# Paths to the dataset files\n",
        "train_labels_path = '/content/train-labels-idx1-ubyte'\n",
        "test_labels_path = '/content/t10k-labels-idx1-ubyte'\n",
        "train_images_path = '/content/train-images-idx3-ubyte'\n",
        "test_images_path = '/content/t10k-images-idx3-ubyte'"
      ],
      "metadata": {
        "id": "o7sZ2EB7uqWe"
      },
      "execution_count": 4,
      "outputs": []
    },
    {
      "cell_type": "code",
      "source": [
        "# Load datasets\n",
        "train_labels = read_idx(train_labels_path)\n",
        "test_labels = read_idx(test_labels_path)\n",
        "train_images = read_images(train_images_path)\n",
        "test_images = read_images(test_images_path)"
      ],
      "metadata": {
        "id": "PZHiPpaBuqZ1"
      },
      "execution_count": 5,
      "outputs": []
    },
    {
      "cell_type": "code",
      "source": [
        "# Normalize the images\n",
        "train_images = train_images / 255.0\n",
        "test_images = test_images / 255.0"
      ],
      "metadata": {
        "id": "MVZugQpYuqft"
      },
      "execution_count": 6,
      "outputs": []
    },
    {
      "cell_type": "code",
      "source": [
        "# Reshape the images for the CNN\n",
        "train_images = train_images.reshape((train_images.shape[0], 28, 28, 1))\n",
        "test_images = test_images.reshape((test_images.shape[0], 28, 28, 1))"
      ],
      "metadata": {
        "id": "Q6GfMrsuwltL"
      },
      "execution_count": 7,
      "outputs": []
    },
    {
      "cell_type": "code",
      "source": [
        "# Convert labels to categorical format\n",
        "train_labels = to_categorical(train_labels)\n",
        "test_labels = to_categorical(test_labels)"
      ],
      "metadata": {
        "id": "0cXaQVEZwlv_"
      },
      "execution_count": 8,
      "outputs": []
    },
    {
      "cell_type": "code",
      "source": [
        "# Build the CNN model\n",
        "model = Sequential([\n",
        "    Conv2D(32, (3, 3), activation='relu', input_shape=(28, 28, 1)),\n",
        "    MaxPooling2D((2, 2)),\n",
        "    Conv2D(64, (3, 3), activation='relu'),\n",
        "    MaxPooling2D((2, 2)),\n",
        "    Flatten(),\n",
        "    Dense(64, activation='relu'),\n",
        "    Dense(10, activation='softmax')\n",
        "])"
      ],
      "metadata": {
        "id": "7-DyPjjpwlyj"
      },
      "execution_count": 9,
      "outputs": []
    },
    {
      "cell_type": "code",
      "source": [
        "# Compile the model\n",
        "model.compile(optimizer='adam', loss='categorical_crossentropy', metrics=['accuracy'])"
      ],
      "metadata": {
        "id": "GF-UW3iZwl1M"
      },
      "execution_count": 10,
      "outputs": []
    },
    {
      "cell_type": "code",
      "source": [
        "# Train the model\n",
        "model.fit(train_images, train_labels, epochs=5, batch_size=64, validation_split=0.1)"
      ],
      "metadata": {
        "colab": {
          "base_uri": "https://localhost:8080/"
        },
        "id": "Sa2ZCxhbwl4M",
        "outputId": "7d470926-ae34-4d65-8076-25725d261705"
      },
      "execution_count": 11,
      "outputs": [
        {
          "output_type": "stream",
          "name": "stdout",
          "text": [
            "Epoch 1/5\n",
            "844/844 [==============================] - 46s 53ms/step - loss: 0.1889 - accuracy: 0.9433 - val_loss: 0.0527 - val_accuracy: 0.9853\n",
            "Epoch 2/5\n",
            "844/844 [==============================] - 43s 51ms/step - loss: 0.0545 - accuracy: 0.9830 - val_loss: 0.0453 - val_accuracy: 0.9880\n",
            "Epoch 3/5\n",
            "844/844 [==============================] - 44s 52ms/step - loss: 0.0389 - accuracy: 0.9876 - val_loss: 0.0408 - val_accuracy: 0.9885\n",
            "Epoch 4/5\n",
            "844/844 [==============================] - 46s 55ms/step - loss: 0.0299 - accuracy: 0.9908 - val_loss: 0.0389 - val_accuracy: 0.9897\n",
            "Epoch 5/5\n",
            "844/844 [==============================] - 46s 55ms/step - loss: 0.0239 - accuracy: 0.9926 - val_loss: 0.0349 - val_accuracy: 0.9897\n"
          ]
        },
        {
          "output_type": "execute_result",
          "data": {
            "text/plain": [
              "<keras.src.callbacks.History at 0x7b1a1aa1e050>"
            ]
          },
          "metadata": {},
          "execution_count": 11
        }
      ]
    },
    {
      "cell_type": "code",
      "source": [
        "# Evaluate the model\n",
        "test_loss, test_acc = model.evaluate(test_images, test_labels)\n",
        "print(f'Test accuracy: {test_acc}')"
      ],
      "metadata": {
        "colab": {
          "base_uri": "https://localhost:8080/"
        },
        "id": "HyP4p6Auwl-A",
        "outputId": "101c1b84-bb94-46f8-f925-3cc9d435c822"
      },
      "execution_count": 12,
      "outputs": [
        {
          "output_type": "stream",
          "name": "stdout",
          "text": [
            "313/313 [==============================] - 4s 12ms/step - loss: 0.0306 - accuracy: 0.9899\n",
            "Test accuracy: 0.9898999929428101\n"
          ]
        }
      ]
    },
    {
      "cell_type": "code",
      "source": [
        "# Predict the labels for test images\n",
        "predicted_labels = model.predict(test_images)\n",
        "predicted_labels = np.argmax(predicted_labels, axis=1)\n",
        "true_labels = np.argmax(test_labels, axis=1)"
      ],
      "metadata": {
        "colab": {
          "base_uri": "https://localhost:8080/"
        },
        "id": "rYUgY1mwwyvY",
        "outputId": "cfe5a0ab-ba77-411e-febf-26955761cddf"
      },
      "execution_count": 13,
      "outputs": [
        {
          "output_type": "stream",
          "name": "stdout",
          "text": [
            "313/313 [==============================] - 2s 8ms/step\n"
          ]
        }
      ]
    },
    {
      "cell_type": "code",
      "source": [
        "# Compute confusion matrix\n",
        "conf_matrix = confusion_matrix(true_labels, predicted_labels)\n",
        "print('Confusion Matrix:')\n",
        "print(conf_matrix)"
      ],
      "metadata": {
        "colab": {
          "base_uri": "https://localhost:8080/"
        },
        "id": "XdmfMmfhwyyF",
        "outputId": "2c6dde63-e167-41c7-e743-dba8d241bcde"
      },
      "execution_count": 14,
      "outputs": [
        {
          "output_type": "stream",
          "name": "stdout",
          "text": [
            "Confusion Matrix:\n",
            "[[ 976    0    1    0    0    0    2    1    0    0]\n",
            " [   0 1130    2    1    0    0    1    1    0    0]\n",
            " [   1    0 1023    1    1    0    0    6    0    0]\n",
            " [   0    0    0 1004    0    3    0    2    1    0]\n",
            " [   0    0    0    0  979    0    2    0    0    1]\n",
            " [   1    0    1    5    0  881    1    1    1    1]\n",
            " [   2    2    0    0    1    3  950    0    0    0]\n",
            " [   0    1    5    0    0    1    0 1021    0    0]\n",
            " [   6    0    6    2    2    2    0    7  944    5]\n",
            " [   0    2    0    0    5    5    1    5    0  991]]\n"
          ]
        }
      ]
    },
    {
      "cell_type": "code",
      "source": [
        "# Compute accuracy\n",
        "accuracy = accuracy_score(true_labels, predicted_labels)\n",
        "print(f'Accuracy: {accuracy}')"
      ],
      "metadata": {
        "colab": {
          "base_uri": "https://localhost:8080/"
        },
        "id": "lSAl3IYZwy0r",
        "outputId": "151f7407-3705-427f-9acd-6d2c3270398c"
      },
      "execution_count": 15,
      "outputs": [
        {
          "output_type": "stream",
          "name": "stdout",
          "text": [
            "Accuracy: 0.9899\n"
          ]
        }
      ]
    },
    {
      "cell_type": "code",
      "source": [],
      "metadata": {
        "id": "Q_wuxnxjwy3g"
      },
      "execution_count": null,
      "outputs": []
    },
    {
      "cell_type": "code",
      "source": [],
      "metadata": {
        "id": "hmCJjWYgwy6K"
      },
      "execution_count": null,
      "outputs": []
    },
    {
      "cell_type": "code",
      "source": [],
      "metadata": {
        "id": "DAhOiK6RuqjQ"
      },
      "execution_count": null,
      "outputs": []
    }
  ]
}